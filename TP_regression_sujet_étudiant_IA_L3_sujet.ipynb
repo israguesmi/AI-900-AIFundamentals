{
  "cells": [
    {
      "cell_type": "markdown",
      "metadata": {
        "id": "view-in-github",
        "colab_type": "text"
      },
      "source": [
        "<a href=\"https://colab.research.google.com/github/israguesmi/AI-900-AIFundamentals/blob/main/TP_regression_sujet_%C3%A9tudiant_IA_L3_sujet.ipynb\" target=\"_parent\"><img src=\"https://colab.research.google.com/assets/colab-badge.svg\" alt=\"Open In Colab\"/></a>"
      ]
    },
    {
      "cell_type": "markdown",
      "metadata": {
        "id": "5yIWtVHIkdXm"
      },
      "source": [
        "# La régression linéaire\n",
        "\n",
        "\n",
        "## Régression linéaire\n",
        "En statistique, la régression linéaire est une approche linéaire de la\n",
        "modélisation de la relation entre une variable expliquée et une ou\n",
        "plusieurs variables explicatives (covariables). Dans le cas d'une seule variable explicative, on parle de régression linéaire simple. Pour plus d'une variable explicative (indépendante), le processus est appelé régression linéaire\n",
        "multiple. Nous allons traiter la régression linéaire simple dans ce\n",
        "tutoriel.\n",
        "Soit **X** la variable explicative et **Y** la variable\n",
        "expliquée. Nous allons définir une relation linéaire entre ces deux\n",
        "variables comme suit :\n",
        "\n",
        "\\\\[ Y = aX + b \\\\]  \n",
        "![mxplusc](SlopeInterceptLineEqu.png)\n",
        "\n",
        "Voici l'équation d'une droite que vous avez étudiée au lycée. **a** est la pente de la droite et **b** est l'ordonnée à l'origine. Aujourd'hui, nous allons utiliser cette équation pour entraîner notre modèle avec un ensemble de données donné et prédire la valeur de **Y** pour toute valeur donnée de **X**.\n",
        "  \n",
        "Notre défi d'aujourd'hui est de déterminer la valeur de **a** et **b**, qui donnent l'erreur minimale pour l'ensemble de données donné. Pour ce faire, nous utiliserons d'abord la méthode des **moindre carrés**.  \n",
        "\n",
        "## Trouver l'erreur  \n",
        "Pour minimiser l'erreur, nous devons d'abord trouver un moyen de la calculer. Une **fonction de perte (loss)** en apprentissage automatique est simplement une mesure de la différence entre la valeur prédite et la valeur réelle.  \n",
        "Aujourd'hui, nous allons utiliser une **fonction de loss quadratique (L2)** pour calculer la perte ou l'erreur dans notre modèle. Elle peut être définie comme suit :\n",
        "  \n",
        "\\\\[ S(x) = \\sum_{i=1}^n (y_i - \\hat{y}_i)^2\\\\]  \n",
        "\n",
        "  \n",
        "Nous élevons  $(y - \\hat{y})$  au carré car, pour les points situés sous la ligne de\n",
        "régression, $(y - \\hat{y}\\$ sera négatif et nous ne voulons pas de\n",
        "valeurs négatives dans notre erreur totale (cela annulerait les valeurs\n",
        "positives).\n",
        "\n",
        "## Méthode des moindres carrés\n",
        "\n",
        "Maintenant que nous avons choisi la fonction de perte, la seule chose qui reste à faire est de la minimiser. Pour ce faire, il faut trouver la dérivée partielle de **S**, l'égaliser à 0, puis trouver une expression pour **a** et **b**.\n",
        "\n",
        "Posons $S=\\sum_{i=1}^n (y_i - \\hat{y_i})^2$ avec $\\hat{y_i}=ax_i +b$.\n",
        "Nous allons dériver **S** partiellement en fonction b et de a pour chercher son minimum (rappelons que **S** est convexe).\n",
        "<ins>Calcule de $b$ :</ins>\n",
        "\\\\[\\frac{\\partial}{\\partial b}\\sum_{i=1}^n (y_i - (a x_i + b ))^2 \\\\]\n",
        "\\\\[=\\frac{\\partial}{\\partial b}\\sum_{i=1}^n (y_i^2 -2y_iax_i - 2y_i b + (a x_i + b)^2)  \\\\]\n",
        "\\\\[=\\frac{\\partial}{\\partial b}\\sum_{i=1}^n (y_i^2 - 2 y_i a x_i - 2 y_i b + a^2x_i^2 + 2a x_i b + b^2) \\\\]\n",
        "\\\\[=\\sum_{i=1}^n (-2y_i + 2a x_i + 2b) \\\\]\n",
        "\\\\[=-2\\sum_{i=1}^n (y_i - (ax_i +b)) \\\\]\n",
        "On cherche $b$ tel que $\\frac{\\partial S}{\\partial b}=0$ et on fixe $a$ à une constante quelconque.\n",
        "\n",
        "\\\\[-2\\sum_{i=1}^n (y_i - (ax_i +b)) = 0 \\\\]\n",
        "\n",
        "\\\\[<=>\\sum_{i=1}^n (y_i - (ax_i +b)) = 0 \\\\]\n",
        "\\\\[<=>\\sum_{i=1}^n (y_i) - \\sum_{i=1}^n(ax_i) - nb = 0 \\\\]\n",
        "\\\\[<=>b = \\frac{\\sum_{i=1}^n y_i}{n} - \\frac{\\sum_{i=1}^n ax_i}{n}\\\\]\n",
        "On pose $\\bar{y}$ et $\\bar{x}$ les moyennes respectives de $y$ et $x$.\n",
        "\n",
        "\n",
        "\\\\[<=>b =  \\bar{y} - a \\bar{x} \\\\]\n",
        "\n",
        "<ins>Calcul de $a$ :</ins>\n",
        "\\\\[\\frac{\\partial}{\\partial a}\\sum_{i=1}^n (y_i - ( ax_i + \\bar{y} - a \\bar{x}) )^2 \\\\]\n",
        "On factorise par $(x_i- \\bar{x})$ et par $(y_i- \\bar{y})$ pour simplifier le développement <br>\n",
        "\\\\[<=>\\frac{\\partial}{\\partial a}\\sum_{i=1}^n (-a(x_i-\\bar{x})+(y_i-\\bar{y}))^2\\\\]\n",
        "\\\\[<=>\\frac{\\partial}{\\partial a}\\sum_{i=1}^n (a^2(x_i-\\bar{x})^2-2a(x_i-\\bar{x})(y_i-\\bar{y}))+(y_i-\\bar{y})^2)\\\\]\n",
        "\\\\[<=>\\sum_{i=1}^n(2(x_i-\\bar{x})^2 - 2(x_i-\\bar{x})(y_i-\\bar{y}))\\\\]\n",
        "On cherche $a$ tel que $\\frac{\\partial S}{\\partial a}=0$ <br>\n",
        "\\\\[<=> a\\sum_{i=1}^n (2a(x_i - \\bar{x})^2)- 2\\sum_{i=1}^n (x_i-\\bar{x})(y_i-\\bar{y}) = 0 \\\\]\n",
        "\\\\[<=> a = \\frac{\\sum_{i=1}^n(x_i-\\bar{x})(y_i-\\bar{y})}{\\sum_{i=1}^n (x_i - \\bar{x})^2}\\\\]\n",
        "Vous aurez peut-être identifié $\\sigma_{xy}=\\sum_{i=1}^n(x_i-\\bar{x})(y_i-\\bar{y})$ et $\\sigma_x^2=\\sum_{i=1}^n (x_i - \\bar{x})^2$.       \n",
        "\n",
        "\n",
        "<ins>on trouve donc pour $a$ et $b$ :</ins>\n",
        "\\\\[a = \\frac{\\sum_{i=1}^n (x_i - \\bar x)(y_i - \\bar y)}{\\sum_{i=1}^n (x_i - \\bar x)^2}\\\\]  \n",
        "  \n",
        "\\\\[b = \\bar y - a\\bar x\\\\]  \n",
        "  \n",
        "Ici, $\\bar x$ est la moyenne de toutes les valeurs de l'entrée **X** et $\\bar y$ est la moyenne de toutes les valeurs de la sortie souhaitée **Y**. Il s'agit de la méthode des moindres carrés.\n",
        "Nous allons maintenant l'implémenter en Python et faire des prédictions.  "
      ]
    },
    {
      "cell_type": "markdown",
      "metadata": {
        "id": "msrWf7BqkdXo"
      },
      "source": [
        "## Implementing the Model"
      ]
    },
    {
      "cell_type": "code",
      "execution_count": 1,
      "metadata": {
        "id": "CoHmNOHdkdXp"
      },
      "outputs": [],
      "source": [
        "# Making imports\n",
        "import pandas as pd\n",
        "import numpy as np\n",
        "import matplotlib.pyplot as plt\n",
        "plt.rcParams['figure.figsize'] = (7, 5)"
      ]
    },
    {
      "cell_type": "markdown",
      "source": [
        "Charger les données 'data.csv'"
      ],
      "metadata": {
        "id": "5Y5VPPRJPYBh"
      }
    },
    {
      "cell_type": "code",
      "source": [
        "from google.colab import files\n",
        "data_to_load = files.upload()"
      ],
      "metadata": {
        "id": "XS2zn2FyPT-g",
        "outputId": "bb2dbc71-93cc-4ff0-c168-ee05442c046a",
        "colab": {
          "base_uri": "https://localhost:8080/",
          "height": 74
        }
      },
      "execution_count": 2,
      "outputs": [
        {
          "output_type": "display_data",
          "data": {
            "text/plain": [
              "<IPython.core.display.HTML object>"
            ],
            "text/html": [
              "\n",
              "     <input type=\"file\" id=\"files-9007193a-d81b-49f3-b202-6a30edd6414a\" name=\"files[]\" multiple disabled\n",
              "        style=\"border:none\" />\n",
              "     <output id=\"result-9007193a-d81b-49f3-b202-6a30edd6414a\">\n",
              "      Upload widget is only available when the cell has been executed in the\n",
              "      current browser session. Please rerun this cell to enable.\n",
              "      </output>\n",
              "      <script>// Copyright 2017 Google LLC\n",
              "//\n",
              "// Licensed under the Apache License, Version 2.0 (the \"License\");\n",
              "// you may not use this file except in compliance with the License.\n",
              "// You may obtain a copy of the License at\n",
              "//\n",
              "//      http://www.apache.org/licenses/LICENSE-2.0\n",
              "//\n",
              "// Unless required by applicable law or agreed to in writing, software\n",
              "// distributed under the License is distributed on an \"AS IS\" BASIS,\n",
              "// WITHOUT WARRANTIES OR CONDITIONS OF ANY KIND, either express or implied.\n",
              "// See the License for the specific language governing permissions and\n",
              "// limitations under the License.\n",
              "\n",
              "/**\n",
              " * @fileoverview Helpers for google.colab Python module.\n",
              " */\n",
              "(function(scope) {\n",
              "function span(text, styleAttributes = {}) {\n",
              "  const element = document.createElement('span');\n",
              "  element.textContent = text;\n",
              "  for (const key of Object.keys(styleAttributes)) {\n",
              "    element.style[key] = styleAttributes[key];\n",
              "  }\n",
              "  return element;\n",
              "}\n",
              "\n",
              "// Max number of bytes which will be uploaded at a time.\n",
              "const MAX_PAYLOAD_SIZE = 100 * 1024;\n",
              "\n",
              "function _uploadFiles(inputId, outputId) {\n",
              "  const steps = uploadFilesStep(inputId, outputId);\n",
              "  const outputElement = document.getElementById(outputId);\n",
              "  // Cache steps on the outputElement to make it available for the next call\n",
              "  // to uploadFilesContinue from Python.\n",
              "  outputElement.steps = steps;\n",
              "\n",
              "  return _uploadFilesContinue(outputId);\n",
              "}\n",
              "\n",
              "// This is roughly an async generator (not supported in the browser yet),\n",
              "// where there are multiple asynchronous steps and the Python side is going\n",
              "// to poll for completion of each step.\n",
              "// This uses a Promise to block the python side on completion of each step,\n",
              "// then passes the result of the previous step as the input to the next step.\n",
              "function _uploadFilesContinue(outputId) {\n",
              "  const outputElement = document.getElementById(outputId);\n",
              "  const steps = outputElement.steps;\n",
              "\n",
              "  const next = steps.next(outputElement.lastPromiseValue);\n",
              "  return Promise.resolve(next.value.promise).then((value) => {\n",
              "    // Cache the last promise value to make it available to the next\n",
              "    // step of the generator.\n",
              "    outputElement.lastPromiseValue = value;\n",
              "    return next.value.response;\n",
              "  });\n",
              "}\n",
              "\n",
              "/**\n",
              " * Generator function which is called between each async step of the upload\n",
              " * process.\n",
              " * @param {string} inputId Element ID of the input file picker element.\n",
              " * @param {string} outputId Element ID of the output display.\n",
              " * @return {!Iterable<!Object>} Iterable of next steps.\n",
              " */\n",
              "function* uploadFilesStep(inputId, outputId) {\n",
              "  const inputElement = document.getElementById(inputId);\n",
              "  inputElement.disabled = false;\n",
              "\n",
              "  const outputElement = document.getElementById(outputId);\n",
              "  outputElement.innerHTML = '';\n",
              "\n",
              "  const pickedPromise = new Promise((resolve) => {\n",
              "    inputElement.addEventListener('change', (e) => {\n",
              "      resolve(e.target.files);\n",
              "    });\n",
              "  });\n",
              "\n",
              "  const cancel = document.createElement('button');\n",
              "  inputElement.parentElement.appendChild(cancel);\n",
              "  cancel.textContent = 'Cancel upload';\n",
              "  const cancelPromise = new Promise((resolve) => {\n",
              "    cancel.onclick = () => {\n",
              "      resolve(null);\n",
              "    };\n",
              "  });\n",
              "\n",
              "  // Wait for the user to pick the files.\n",
              "  const files = yield {\n",
              "    promise: Promise.race([pickedPromise, cancelPromise]),\n",
              "    response: {\n",
              "      action: 'starting',\n",
              "    }\n",
              "  };\n",
              "\n",
              "  cancel.remove();\n",
              "\n",
              "  // Disable the input element since further picks are not allowed.\n",
              "  inputElement.disabled = true;\n",
              "\n",
              "  if (!files) {\n",
              "    return {\n",
              "      response: {\n",
              "        action: 'complete',\n",
              "      }\n",
              "    };\n",
              "  }\n",
              "\n",
              "  for (const file of files) {\n",
              "    const li = document.createElement('li');\n",
              "    li.append(span(file.name, {fontWeight: 'bold'}));\n",
              "    li.append(span(\n",
              "        `(${file.type || 'n/a'}) - ${file.size} bytes, ` +\n",
              "        `last modified: ${\n",
              "            file.lastModifiedDate ? file.lastModifiedDate.toLocaleDateString() :\n",
              "                                    'n/a'} - `));\n",
              "    const percent = span('0% done');\n",
              "    li.appendChild(percent);\n",
              "\n",
              "    outputElement.appendChild(li);\n",
              "\n",
              "    const fileDataPromise = new Promise((resolve) => {\n",
              "      const reader = new FileReader();\n",
              "      reader.onload = (e) => {\n",
              "        resolve(e.target.result);\n",
              "      };\n",
              "      reader.readAsArrayBuffer(file);\n",
              "    });\n",
              "    // Wait for the data to be ready.\n",
              "    let fileData = yield {\n",
              "      promise: fileDataPromise,\n",
              "      response: {\n",
              "        action: 'continue',\n",
              "      }\n",
              "    };\n",
              "\n",
              "    // Use a chunked sending to avoid message size limits. See b/62115660.\n",
              "    let position = 0;\n",
              "    do {\n",
              "      const length = Math.min(fileData.byteLength - position, MAX_PAYLOAD_SIZE);\n",
              "      const chunk = new Uint8Array(fileData, position, length);\n",
              "      position += length;\n",
              "\n",
              "      const base64 = btoa(String.fromCharCode.apply(null, chunk));\n",
              "      yield {\n",
              "        response: {\n",
              "          action: 'append',\n",
              "          file: file.name,\n",
              "          data: base64,\n",
              "        },\n",
              "      };\n",
              "\n",
              "      let percentDone = fileData.byteLength === 0 ?\n",
              "          100 :\n",
              "          Math.round((position / fileData.byteLength) * 100);\n",
              "      percent.textContent = `${percentDone}% done`;\n",
              "\n",
              "    } while (position < fileData.byteLength);\n",
              "  }\n",
              "\n",
              "  // All done.\n",
              "  yield {\n",
              "    response: {\n",
              "      action: 'complete',\n",
              "    }\n",
              "  };\n",
              "}\n",
              "\n",
              "scope.google = scope.google || {};\n",
              "scope.google.colab = scope.google.colab || {};\n",
              "scope.google.colab._files = {\n",
              "  _uploadFiles,\n",
              "  _uploadFilesContinue,\n",
              "};\n",
              "})(self);\n",
              "</script> "
            ]
          },
          "metadata": {}
        },
        {
          "output_type": "stream",
          "name": "stdout",
          "text": [
            "Saving data.csv to data.csv\n"
          ]
        }
      ]
    },
    {
      "cell_type": "code",
      "execution_count": 3,
      "metadata": {
        "scrolled": true,
        "id": "n-YOthQSkdXq",
        "outputId": "5e256e88-6718-43bb-e4af-b0b0709044f9",
        "colab": {
          "base_uri": "https://localhost:8080/",
          "height": 465
        }
      },
      "outputs": [
        {
          "output_type": "display_data",
          "data": {
            "text/plain": [
              "<Figure size 700x500 with 1 Axes>"
            ],
            "image/png": "[encoded data removed]"
          },
          "metadata": {}
        }
      ],
      "source": [
        "# Preprocessing Input data\n",
        "data = pd.read_csv('data.csv')\n",
        "X = data.iloc[:, 0]\n",
        "Y = data.iloc[:, 1]\n",
        "plt.scatter(X, Y)\n",
        "plt.xlabel(\"X-Axis\")\n",
        "plt.ylabel(\"Y-Axis\")\n",
        "plt.show()"
      ]
    },
    {
      "cell_type": "code",
      "execution_count": 4,
      "metadata": {
        "id": "rmsuLBoTkdXs",
        "outputId": "0c86e3c5-0fcd-4557-da7a-527c0b44465b",
        "colab": {
          "base_uri": "https://localhost:8080/",
          "height": 206
        }
      },
      "outputs": [
        {
          "output_type": "execute_result",
          "data": {
            "text/plain": [
              "           X          Y\n",
              "0  53.426804  68.777596\n",
              "1  61.530358  62.562382\n",
              "2  47.475640  71.546632\n",
              "3  59.813208  87.230925\n",
              "4  55.142188  78.211518"
            ],
            "text/html": [
              "\n",
              "  <div id=\"df-f48c5c92-f57e-46fe-b3f9-cd004c767634\" class=\"colab-df-container\">\n",
              "    <div>\n",
              "<style scoped>\n",
              "    .dataframe tbody tr th:only-of-type {\n",
              "        vertical-align: middle;\n",
              "    }\n",
              "\n",
              "    .dataframe tbody tr th {\n",
              "        vertical-align: top;\n",
              "    }\n",
              "\n",
              "    .dataframe thead th {\n",
              "        text-align: right;\n",
              "    }\n",
              "</style>\n",
              "<table border=\"1\" class=\"dataframe\">\n",
              "  <thead>\n",
              "    <tr style=\"text-align: right;\">\n",
              "      <th></th>\n",
              "      <th>X</th>\n",
              "      <th>Y</th>\n",
              "    </tr>\n",
              "  </thead>\n",
              "  <tbody>\n",
              "    <tr>\n",
              "      <th>0</th>\n",
              "      <td>53.426804</td>\n",
              "      <td>68.777596</td>\n",
              "    </tr>\n",
              "    <tr>\n",
              "      <th>1</th>\n",
              "      <td>61.530358</td>\n",
              "      <td>62.562382</td>\n",
              "    </tr>\n",
              "    <tr>\n",
              "      <th>2</th>\n",
              "      <td>47.475640</td>\n",
              "      <td>71.546632</td>\n",
              "    </tr>\n",
              "    <tr>\n",
              "      <th>3</th>\n",
              "      <td>59.813208</td>\n",
              "      <td>87.230925</td>\n",
              "    </tr>\n",
              "    <tr>\n",
              "      <th>4</th>\n",
              "      <td>55.142188</td>\n",
              "      <td>78.211518</td>\n",
              "    </tr>\n",
              "  </tbody>\n",
              "</table>\n",
              "</div>\n",
              "    <div class=\"colab-df-buttons\">\n",
              "\n",
              "  <div class=\"colab-df-container\">\n",
              "    <button class=\"colab-df-convert\" onclick=\"convertToInteractive('df-f48c5c92-f57e-46fe-b3f9-cd004c767634')\"\n",
              "            title=\"Convert this dataframe to an interactive table.\"\n",
              "            style=\"display:none;\">\n",
              "\n",
              "  <svg xmlns=\"http://www.w3.org/2000/svg\" height=\"24px\" viewBox=\"0 -960 960 960\">\n",
              "    <path d=\"M120-120v-720h720v720H120Zm60-500h600v-160H180v160Zm220 220h160v-160H400v160Zm0 220h160v-160H400v160ZM180-400h160v-160H180v160Zm440 0h160v-160H620v160ZM180-180h160v-160H180v160Zm440 0h160v-160H620v160Z\"/>\n",
              "  </svg>\n",
              "    </button>\n",
              "\n",
              "  <style>\n",
              "    .colab-df-container {\n",
              "      display:flex;\n",
              "      gap: 12px;\n",
              "    }\n",
              "\n",
              "    .colab-df-convert {\n",
              "      background-color: #E8F0FE;\n",
              "      border: none;\n",
              "      border-radius: 50%;\n",
              "      cursor: pointer;\n",
              "      display: none;\n",
              "      fill: #1967D2;\n",
              "      height: 32px;\n",
              "      padding: 0 0 0 0;\n",
              "      width: 32px;\n",
              "    }\n",
              "\n",
              "    .colab-df-convert:hover {\n",
              "      background-color: #E2EBFA;\n",
              "      box-shadow: 0px 1px 2px rgba(60, 64, 67, 0.3), 0px 1px 3px 1px rgba(60, 64, 67, 0.15);\n",
              "      fill: #174EA6;\n",
              "    }\n",
              "\n",
              "    .colab-df-buttons div {\n",
              "      margin-bottom: 4px;\n",
              "    }\n",
              "\n",
              "    [theme=dark] .colab-df-convert {\n",
              "      background-color: #3B4455;\n",
              "      fill: #D2E3FC;\n",
              "    }\n",
              "\n",
              "    [theme=dark] .colab-df-convert:hover {\n",
              "      background-color: #434B5C;\n",
              "      box-shadow: 0px 1px 3px 1px rgba(0, 0, 0, 0.15);\n",
              "      filter: drop-shadow(0px 1px 2px rgba(0, 0, 0, 0.3));\n",
              "      fill: #FFFFFF;\n",
              "    }\n",
              "  </style>\n",
              "\n",
              "    <script>\n",
              "      const buttonEl =\n",
              "        document.querySelector('#df-f48c5c92-f57e-46fe-b3f9-cd004c767634 button.colab-df-convert');\n",
              "      buttonEl.style.display =\n",
              "        google.colab.kernel.accessAllowed ? 'block' : 'none';\n",
              "\n",
              "      async function convertToInteractive(key) {\n",
              "        const element = document.querySelector('#df-f48c5c92-f57e-46fe-b3f9-cd004c767634');\n",
              "        const dataTable =\n",
              "          await google.colab.kernel.invokeFunction('convertToInteractive',\n",
              "                                                    [key], {});\n",
              "        if (!dataTable) return;\n",
              "\n",
              "        const docLinkHtml = 'Like what you see? Visit the ' +\n",
              "          '<a target=\"_blank\" href=https://colab.research.google.com/notebooks/data_table.ipynb>data table notebook</a>'\n",
              "          + ' to learn more about interactive tables.';\n",
              "        element.innerHTML = '';\n",
              "        dataTable['output_type'] = 'display_data';\n",
              "        await google.colab.output.renderOutput(dataTable, element);\n",
              "        const docLink = document.createElement('div');\n",
              "        docLink.innerHTML = docLinkHtml;\n",
              "        element.appendChild(docLink);\n",
              "      }\n",
              "    </script>\n",
              "  </div>\n",
              "\n",
              "\n",
              "<div id=\"df-9aef00b5-a78c-4531-bfe0-eed065f0352d\">\n",
              "  <button class=\"colab-df-quickchart\" onclick=\"quickchart('df-9aef00b5-a78c-4531-bfe0-eed065f0352d')\"\n",
              "            title=\"Suggest charts\"\n",
              "            style=\"display:none;\">\n",
              "\n",
              "<svg xmlns=\"http://www.w3.org/2000/svg\" height=\"24px\"viewBox=\"0 0 24 24\"\n",
              "     width=\"24px\">\n",
              "    <g>\n",
              "        <path d=\"M19 3H5c-1.1 0-2 .9-2 2v14c0 1.1.9 2 2 2h14c1.1 0 2-.9 2-2V5c0-1.1-.9-2-2-2zM9 17H7v-7h2v7zm4 0h-2V7h2v10zm4 0h-2v-4h2v4z\"/>\n",
              "    </g>\n",
              "</svg>\n",
              "  </button>\n",
              "\n",
              "<style>\n",
              "  .colab-df-quickchart {\n",
              "      --bg-color: #E8F0FE;\n",
              "      --fill-color: #1967D2;\n",
              "      --hover-bg-color: #E2EBFA;\n",
              "      --hover-fill-color: #174EA6;\n",
              "      --disabled-fill-color: #AAA;\n",
              "      --disabled-bg-color: #DDD;\n",
              "  }\n",
              "\n",
              "  [theme=dark] .colab-df-quickchart {\n",
              "      --bg-color: #3B4455;\n",
              "      --fill-color: #D2E3FC;\n",
              "      --hover-bg-color: #434B5C;\n",
              "      --hover-fill-color: #FFFFFF;\n",
              "      --disabled-bg-color: #3B4455;\n",
              "      --disabled-fill-color: #666;\n",
              "  }\n",
              "\n",
              "  .colab-df-quickchart {\n",
              "    background-color: var(--bg-color);\n",
              "    border: none;\n",
              "    border-radius: 50%;\n",
              "    cursor: pointer;\n",
              "    display: none;\n",
              "    fill: var(--fill-color);\n",
              "    height: 32px;\n",
              "    padding: 0;\n",
              "    width: 32px;\n",
              "  }\n",
              "\n",
              "  .colab-df-quickchart:hover {\n",
              "    background-color: var(--hover-bg-color);\n",
              "    box-shadow: 0 1px 2px rgba(60, 64, 67, 0.3), 0 1px 3px 1px rgba(60, 64, 67, 0.15);\n",
              "    fill: var(--button-hover-fill-color);\n",
              "  }\n",
              "\n",
              "  .colab-df-quickchart-complete:disabled,\n",
              "  .colab-df-quickchart-complete:disabled:hover {\n",
              "    background-color: var(--disabled-bg-color);\n",
              "    fill: var(--disabled-fill-color);\n",
              "    box-shadow: none;\n",
              "  }\n",
              "\n",
              "  .colab-df-spinner {\n",
              "    border: 2px solid var(--fill-color);\n",
              "    border-color: transparent;\n",
              "    border-bottom-color: var(--fill-color);\n",
              "    animation:\n",
              "      spin 1s steps(1) infinite;\n",
              "  }\n",
              "\n",
              "  @keyframes spin {\n",
              "    0% {\n",
              "      border-color: transparent;\n",
              "      border-bottom-color: var(--fill-color);\n",
              "      border-left-color: var(--fill-color);\n",
              "    }\n",
              "    20% {\n",
              "      border-color: transparent;\n",
              "      border-left-color: var(--fill-color);\n",
              "      border-top-color: var(--fill-color);\n",
              "    }\n",
              "    30% {\n",
              "      border-color: transparent;\n",
              "      border-left-color: var(--fill-color);\n",
              "      border-top-color: var(--fill-color);\n",
              "      border-right-color: var(--fill-color);\n",
              "    }\n",
              "    40% {\n",
              "      border-color: transparent;\n",
              "      border-right-color: var(--fill-color);\n",
              "      border-top-color: var(--fill-color);\n",
              "    }\n",
              "    60% {\n",
              "      border-color: transparent;\n",
              "      border-right-color: var(--fill-color);\n",
              "    }\n",
              "    80% {\n",
              "      border-color: transparent;\n",
              "      border-right-color: var(--fill-color);\n",
              "      border-bottom-color: var(--fill-color);\n",
              "    }\n",
              "    90% {\n",
              "      border-color: transparent;\n",
              "      border-bottom-color: var(--fill-color);\n",
              "    }\n",
              "  }\n",
              "</style>\n",
              "\n",
              "  <script>\n",
              "    async function quickchart(key) {\n",
              "      const quickchartButtonEl =\n",
              "        document.querySelector('#' + key + ' button');\n",
              "      quickchartButtonEl.disabled = true;  // To prevent multiple clicks.\n",
              "      quickchartButtonEl.classList.add('colab-df-spinner');\n",
              "      try {\n",
              "        const charts = await google.colab.kernel.invokeFunction(\n",
              "            'suggestCharts', [key], {});\n",
              "      } catch (error) {\n",
              "        console.error('Error during call to suggestCharts:', error);\n",
              "      }\n",
              "      quickchartButtonEl.classList.remove('colab-df-spinner');\n",
              "      quickchartButtonEl.classList.add('colab-df-quickchart-complete');\n",
              "    }\n",
              "    (() => {\n",
              "      let quickchartButtonEl =\n",
              "        document.querySelector('#df-9aef00b5-a78c-4531-bfe0-eed065f0352d button');\n",
              "      quickchartButtonEl.style.display =\n",
              "        google.colab.kernel.accessAllowed ? 'block' : 'none';\n",
              "    })();\n",
              "  </script>\n",
              "</div>\n",
              "    </div>\n",
              "  </div>\n"
            ],
            "application/vnd.google.colaboratory.intrinsic+json": {
              "type": "dataframe",
              "variable_name": "data",
              "summary": "{\n  \"name\": \"data\",\n  \"rows\": 99,\n  \"fields\": [\n    {\n      \"column\": \"X\",\n      \"properties\": {\n        \"dtype\": \"number\",\n        \"std\": 9.652462876493312,\n        \"min\": 25.128484647772304,\n        \"max\": 70.34607561504933,\n        \"num_unique_values\": 99,\n        \"samples\": [\n          50.13548548628612,\n          43.31828263186572,\n          49.23976534275376\n        ],\n        \"semantic_type\": \"\",\n        \"description\": \"\"\n      }\n    },\n    {\n      \"column\": \"Y\",\n      \"properties\": {\n        \"dtype\": \"number\",\n        \"std\": 16.216558071174532,\n        \"min\": 41.41288530370056,\n        \"max\": 118.59121730252248,\n        \"num_unique_values\": 99,\n        \"samples\": [\n          59.10883926769964,\n          58.569824717692875,\n          72.11183246961566\n        ],\n        \"semantic_type\": \"\",\n        \"description\": \"\"\n      }\n    }\n  ]\n}"
            }
          },
          "metadata": {},
          "execution_count": 4
        }
      ],
      "source": [
        "data.head()"
      ]
    },
    {
      "cell_type": "markdown",
      "metadata": {
        "id": "arVcLBvIkdXr"
      },
      "source": [
        "à vous\n",
        "<br>\n",
        "\n",
        "Implémenter le modèle de façon itérative pour trouver le coefficient a et l'intercept b. Vous devez obtenir a = 1.28 et b= 9.90"
      ]
    },
    {
      "cell_type": "markdown",
      "metadata": {
        "id": "-sOCMELVkdXu"
      },
      "source": [
        "Afficher sur un même graphique les données sur l axe des X/Y ainsi que la droite de régression obtenue. Vous devez obtenir le graphique suivant"
      ]
    },
    {
      "cell_type": "markdown",
      "source": [
        "En exécutant le code suivant, donner la MSE de vôtre modèle pour le dataset d'entraînement."
      ],
      "metadata": {
        "id": "CSgsrH6OPiyo"
      }
    },
    {
      "cell_type": "code",
      "execution_count": 6,
      "metadata": {
        "id": "xGl7oi6OkdXv",
        "outputId": "546f68c2-4dbc-41a3-e58e-99514bb3a328",
        "colab": {
          "base_uri": "https://localhost:8080/",
          "height": 538
        }
      },
      "outputs": [
        {
          "output_type": "stream",
          "name": "stdout",
          "text": [
            "a:  1.2873573700109315\n",
            "b:  9.90860619032653\n",
            "MSE:  107.4704370095091\n",
            "RMSE:  10.366794924638429\n"
          ]
        },
        {
          "output_type": "display_data",
          "data": {
            "text/plain": [
              "<Figure size 700x500 with 1 Axes>"
            ],
            "image/png": "[encoded data removed]"
          },
          "metadata": {}
        }
      ],
      "source": [
        "from sklearn.metrics import mean_squared_error\n",
        "\n",
        "mean_x=np.average(X)\n",
        "mean_y=np.average(Y)\n",
        "\n",
        "def covXY(value_x,value_y):\n",
        "  somme=0\n",
        "  for i in range(len(value_x)):\n",
        "    somme+= (value_x[i]-mean_x)*(value_y[i]-mean_y)\n",
        "  return somme\n",
        "\n",
        "def var_x(value_x):\n",
        "  somme=0\n",
        "  for i in range(len(value_x)):\n",
        "    somme+=(value_x[i]-mean_x)**2\n",
        "  return somme\n",
        "\n",
        "def predictedValue(a,b,value_x):\n",
        "  predictedvalue=[]\n",
        "  for i in range(len(value_x)):\n",
        "    value= a*value_x[i]+b\n",
        "    predictedvalue.append(value)\n",
        "  return predictedvalue\n",
        "\n",
        "def mean_squared_error(Y, Y_pred):\n",
        "  mse=0\n",
        "  for i in range(len(Y)):\n",
        "    mse+=(Y[i]-Y_pred[i])**2\n",
        "  mse=mse/len(Y)\n",
        "  return mse\n",
        "\n",
        "a=covXY(X,Y)/var_x(X)\n",
        "b=mean_y-(a*mean_x)\n",
        "Y_pred= predictedValue(a,b,X)\n",
        "\n",
        "print(\"a: \",a)\n",
        "print(\"b: \", b)\n",
        "mse = mean_squared_error(Y, Y_pred)\n",
        "print(\"MSE: \", mse)\n",
        "print(\"RMSE: \",np.sqrt(mse))\n",
        "plt.scatter(X, Y)\n",
        "plt.xlabel(\"X-Axis\")\n",
        "plt.ylabel(\"Y-Axis\")\n",
        "plt.plot(X,Y_pred,color=\"red\")\n",
        "plt.show()"
      ]
    },
    {
      "cell_type": "markdown",
      "source": [],
      "metadata": {
        "id": "XpEmIEOIPpS7"
      }
    },
    {
      "cell_type": "markdown",
      "source": [
        "Affichez également la RMSE pour le dataset d'entraînement"
      ],
      "metadata": {
        "id": "ZF3MM3O0P4Am"
      }
    },
    {
      "cell_type": "markdown",
      "metadata": {
        "id": "_I0BMQT2kdXy"
      },
      "source": [
        "# Régression linéaire en 6 lines de Python"
      ]
    },
    {
      "cell_type": "markdown",
      "metadata": {
        "id": "WwBqHyCrkdXy"
      },
      "source": [
        "   Il est possible de réaliser une régression linéaire avec de nombreuses\n",
        "librairies Python. Une des librairies les plus utilisées est Sklearn."
      ]
    },
    {
      "cell_type": "code",
      "execution_count": 7,
      "metadata": {
        "id": "x6y5U_VBkdXy"
      },
      "outputs": [],
      "source": [
        "import numpy as np\n",
        "import matplotlib.pyplot as plt\n",
        "import pandas as pd\n",
        "from sklearn.linear_model import LinearRegression"
      ]
    },
    {
      "cell_type": "markdown",
      "metadata": {
        "id": "3saBUTvAkdXy"
      },
      "source": [
        "Après avoir chargé les données, il faut convertir les données en liste (array) grâce à la lib Numpy"
      ]
    },
    {
      "cell_type": "code",
      "execution_count": 8,
      "metadata": {
        "id": "_HlFtZrekdXz"
      },
      "outputs": [],
      "source": [
        "data = pd.read_csv('data.csv')\n",
        "X = data.iloc[:, 0].values.reshape(-1, 1) # values converts it into a numpy array\n",
        "Y = data.iloc[:, 1].values.reshape(-1, 1) # -1 means that calculate the dimension of rows, but have 1 column\n",
        "linear_regressor = LinearRegression()\n",
        "linear_regressor.fit(X, Y)\n",
        "Y_pred = linear_regressor.predict(X)"
      ]
    },
    {
      "cell_type": "markdown",
      "metadata": {
        "id": "TS2PBbcUkdXz"
      },
      "source": [
        "À vous !\n",
        "Afficher le coefficient $a$ obtenu par la fonction LinearRegression()"
      ]
    },
    {
      "cell_type": "code",
      "source": [
        "a = linear_regressor.coef_[0][0]\n",
        "\n",
        "print(\"Coefficient 'a':\", a)"
      ],
      "metadata": {
        "id": "8KFvUgP1QG0W",
        "outputId": "2562dd4a-b262-4adc-ee9d-7ba97ef7d419",
        "colab": {
          "base_uri": "https://localhost:8080/"
        }
      },
      "execution_count": 9,
      "outputs": [
        {
          "output_type": "stream",
          "name": "stdout",
          "text": [
            "Coefficient 'a': 1.2873573700109313\n"
          ]
        }
      ]
    },
    {
      "cell_type": "markdown",
      "metadata": {
        "id": "nwjRBEWMkdXz"
      },
      "source": [
        "Affichez également la MSE et la RMSE en complétant le code ci-dessous. Votre RMSE doit être égale à ~10.36"
      ]
    },
    {
      "cell_type": "code",
      "execution_count": 10,
      "metadata": {
        "id": "CmmGIZUtkdX0",
        "outputId": "599c8489-66f2-4830-e8da-53bee2f0fef7",
        "colab": {
          "base_uri": "https://localhost:8080/"
        }
      },
      "outputs": [
        {
          "output_type": "stream",
          "name": "stdout",
          "text": [
            "MSE: [107.47043701]\n",
            "RMSE: [10.36679492]\n",
            "R^2 Score: 0.5871609494806325\n"
          ]
        }
      ],
      "source": [
        "from sklearn.metrics import r2_score\n",
        "\n",
        "mse =mean_squared_error(Y, Y_pred)\n",
        "print(\"MSE:\", mse)\n",
        "rmse = np.sqrt(mse)\n",
        "print(\"RMSE:\", rmse)\n",
        "score =r2_score(Y, Y_pred)\n",
        "print(\"R^2 Score:\", score)"
      ]
    },
    {
      "cell_type": "markdown",
      "metadata": {
        "id": "po2jmmBFkdX0"
      },
      "source": [
        "Afficher sur un même graphique les données sur l axe des X/Y ainsi que la droite de régression obtenue. Vous devez obrenir le graph suivant"
      ]
    },
    {
      "cell_type": "code",
      "source": [
        "plt.scatter(X, Y, label='Data')\n",
        "plt.plot(X, Y_pred, color='red', label='Regression Line')\n",
        "plt.xlabel('X')\n",
        "plt.ylabel('Y')\n",
        "plt.legend()\n",
        "plt.show()"
      ],
      "metadata": {
        "id": "Mkg_waM25rEd",
        "outputId": "33546d28-ade0-4762-e3c1-e042c8037f17",
        "colab": {
          "base_uri": "https://localhost:8080/",
          "height": 465
        }
      },
      "execution_count": 11,
      "outputs": [
        {
          "output_type": "display_data",
          "data": {
            "text/plain": [
              "<Figure size 700x500 with 1 Axes>"
            ],
            "image/png": "[encoded data removed]"
          },
          "metadata": {}
        }
      ]
    },
    {
      "cell_type": "markdown",
      "metadata": {
        "id": "ZpH8qe04kdX1"
      },
      "source": [
        "# La fonction OLS"
      ]
    },
    {
      "cell_type": "markdown",
      "metadata": {
        "id": "viS7r3zQkdX1"
      },
      "source": [
        "La régression linéaire LinearRegression() fait référence à la relation LINÉAIRE entre une ou plusieurs\n",
        "variables. La fonction LinearRegression() vous permet d'utiliser d'autres méthodes que celle des moindres carrés (que nous ne verrons pas dans ce cours). La fonction OLS (Ordinary Least Square) au contraire, impose la méthode des\n",
        "moindres carré. Utiliser la fonction LinearRegression()\n",
        "la méthode des moindres carrés vous donne des résultats similaire à la fonction OLS() mais cette dernière vous permet d'avoir davantage d'informations.\n",
        "\n",
        "\n",
        "\n",
        "Afficher le résultat du modèle avec la fonction summary()\n",
        "\n",
        "La syntaxe pour utiliser la fonction summary() est\n",
        "\n",
        "model_fit.summary()"
      ]
    },
    {
      "cell_type": "code",
      "execution_count": 14,
      "metadata": {
        "id": "sJM1CWyTkdX1",
        "outputId": "f01678bf-d8d1-4b8c-d56b-17043199b64b",
        "colab": {
          "base_uri": "https://localhost:8080/"
        }
      },
      "outputs": [
        {
          "output_type": "stream",
          "name": "stdout",
          "text": [
            "                            OLS Regression Results                            \n",
            "==============================================================================\n",
            "Dep. Variable:                      y   R-squared:                       0.587\n",
            "Model:                            OLS   Adj. R-squared:                  0.583\n",
            "Method:                 Least Squares   F-statistic:                     138.0\n",
            "Date:                Mon, 04 Mar 2024   Prob (F-statistic):           2.43e-20\n",
            "Time:                        19:18:46   Log-Likelihood:                -372.00\n",
            "No. Observations:                  99   AIC:                             748.0\n",
            "Df Residuals:                      97   BIC:                             753.2\n",
            "Df Model:                           1                                         \n",
            "Covariance Type:            nonrobust                                         \n",
            "==============================================================================\n",
            "                 coef    std err          t      P>|t|      [0.025      0.975]\n",
            "------------------------------------------------------------------------------\n",
            "const          9.9086      5.486      1.806      0.074      -0.980      20.797\n",
            "x1             1.2874      0.110     11.746      0.000       1.070       1.505\n",
            "==============================================================================\n",
            "Omnibus:                        0.774   Durbin-Watson:                   2.206\n",
            "Prob(Omnibus):                  0.679   Jarque-Bera (JB):                0.895\n",
            "Skew:                           0.179   Prob(JB):                        0.639\n",
            "Kurtosis:                       2.703   Cond. No.                         261.\n",
            "==============================================================================\n",
            "\n",
            "Notes:\n",
            "[1] Standard Errors assume that the covariance matrix of the errors is correctly specified.\n"
          ]
        }
      ],
      "source": [
        "import statsmodels.api as sm\n",
        "X_OLS = sm.add_constant(X)\n",
        "\n",
        "model = sm.OLS(endog=Y, exog=X_OLS)\n",
        "model_fit = model.fit()\n",
        "print(model_fit.summary())"
      ]
    },
    {
      "cell_type": "markdown",
      "metadata": {
        "id": "4mti4aEXkdX3"
      },
      "source": [
        "# Régression polynomiale\n",
        "La régression linéaire univariée (une variable dépendante) et multivariée (plus d'une variable dépendante) dont nous avons parlé jusqu'à présent suppose toujours une relation linéaire entre les variables indépendantes et dépendantes. Dans le monde réel, il est très fréquent de disposer de données pour lesquelles il existe une relation non linéaire entre les variables indépendantes et dépendantes. Dans ce cas, nous pouvons utiliser la régression polynomiale en supposant que la relation entre la variable indépendante x et la (les) variable(s) dépendante(s) y est modélisée par un polynôme de nième degré en x."
      ]
    },
    {
      "cell_type": "code",
      "execution_count": 15,
      "metadata": {
        "scrolled": true,
        "id": "C87PSMTGkdX3",
        "outputId": "ef01428d-6940-44b4-855c-4973cbb1c1dd",
        "colab": {
          "base_uri": "https://localhost:8080/",
          "height": 481
        }
      },
      "outputs": [
        {
          "output_type": "display_data",
          "data": {
            "text/plain": [
              "<Figure size 700x500 with 1 Axes>"
            ],
            "image/png": "[encoded data removed]"
          },
          "metadata": {}
        },
        {
          "output_type": "stream",
          "name": "stdout",
          "text": [
            "[[ 0.         -0.21464768  0.01531708]]\n",
            "[45.31775504]\n"
          ]
        }
      ],
      "source": [
        "from sklearn.preprocessing import PolynomialFeatures\n",
        "pr = PolynomialFeatures(degree = 2)\n",
        "X_poly = pr.fit_transform(X)\n",
        "pr.fit(X_poly, Y)\n",
        "lin_reg = LinearRegression()\n",
        "lin_reg.fit(X_poly, Y)\n",
        "plt.scatter(X, Y)\n",
        "plt.scatter(X, lin_reg.predict(pr.fit_transform(X)))\n",
        "plt.show()\n",
        "\n",
        "print(lin_reg.coef_)\n",
        "print(lin_reg.intercept_)\n"
      ]
    },
    {
      "cell_type": "markdown",
      "source": [
        "Donner l'équation du modèle : Y= 0.01531708 x**2 - 0.21464768 x + 45.31775504"
      ],
      "metadata": {
        "id": "FMG1pQ8sbH8j"
      }
    },
    {
      "cell_type": "markdown",
      "metadata": {
        "id": "4fR796PCkdX3"
      },
      "source": [
        "# Données d'entraînement (train) et de test"
      ]
    },
    {
      "cell_type": "markdown",
      "metadata": {
        "id": "S4yaFMd7kdX3"
      },
      "source": [
        "Pour construire un bon modèle, nous devons d'abord diviser notre ensemble\n",
        "de données en un ensemble d'entraînement (ou données d'apprentissage) et un ensemble de test. Nous\n",
        "utiliserons notre ensemble d'entraînement pour former notre modèle,\n",
        "et nous utiliserons notre ensemble de test pour la validation du modèle.\n",
        "Pour ce faire, nous allons utiliser la fonction train_test_split de\n",
        "sklearn, et définir le paramètre d'entrée test_size à .2 afin que 20\\%\n",
        "des données soient assignées à l'ensemble de test et 80\\% des données\n",
        "soient assignées à l'ensemble d'entraînement.\n",
        "\n",
        "**Nous mettons de côté l'ensemble de test et ne le regardons qu'à la fin\n",
        "pour évaluer les performances du modèle sur des données non vues.\n",
        "\n",
        "Nous faisons cela afin de nous assurer que nous ne testons pas ce que le\n",
        "modèle a déjà appris. De cette façon, nous ne nous contentons pas de\n",
        "résoudre les données que nous connaissons et nous pouvons vérifier si notre\n",
        "modèle est applicable lorsque nous ne connaissons pas les valeurs de\n",
        "sortie. Par conséquent, nous pouvons également vérifier si le modèle n'est pas en overfitting.\n",
        "\n",
        "Nous fixons l'initialisation aléatoire de sorte que chaque fois que nous exécutons\n",
        "le code train_test_split, nous obtenons la même distribution de\n",
        "données. Ceci est important car le fait de garder la répartition des\n",
        "données constante nous permet de comparer les résultats de différentes\n",
        "sessions."
      ]
    },
    {
      "cell_type": "code",
      "execution_count": 17,
      "metadata": {
        "id": "oy0x1tUZkdX4",
        "outputId": "8ceb0a8c-77ea-4c19-e533-6c6cae62e735",
        "colab": {
          "base_uri": "https://localhost:8080/"
        }
      },
      "outputs": [
        {
          "output_type": "execute_result",
          "data": {
            "text/plain": [
              "69"
            ]
          },
          "metadata": {},
          "execution_count": 17
        }
      ],
      "source": [
        "from sklearn.model_selection import train_test_split\n",
        "\n",
        "X_train, X_test, Y_train, Y_test = train_test_split(X, Y,test_size=0.3,random_state=42)\n",
        "\n",
        "X_train.size"
      ]
    },
    {
      "cell_type": "markdown",
      "metadata": {
        "id": "aEr2JbSQkdX4"
      },
      "source": [
        "À vous\n",
        "\n",
        "Appliquer linear_regressor.fit() et LinearRegression() en polynomiale à votre trainset. Afficher la MSE, le R2 et la RMSE pour les données de test pour chaque modèle."
      ]
    },
    {
      "cell_type": "code",
      "source": [
        "poly= PolynomialFeatures(degree=2)\n",
        "X_poly_train=poly.fit_transform(X_train)\n",
        "poly.fit(X_poly_train,Y_train)\n",
        "lin_reg_poly=LinearRegression()\n",
        "lin_reg_poly.fit(X_poly_train, Y_train)\n",
        "Y_poly_pred=lin_reg_poly.predict(X_poly_train)\n",
        "mse = mean_squared_error(Y_train,Y_poly_pred)\n",
        "score =r2_score(Y_train,Y_poly_pred)\n",
        "RMSE= np.sqrt(mse)\n",
        "print(\"R-squared: \", score)\n",
        "print(\"MSE: \", mse[0])\n",
        "print(\"RMSE: \", RMSE[0])\n",
        "print(lin_reg_poly.coef_)\n",
        "print(lin_reg_poly.intercept_)\n",
        "plt.scatter(X_train, Y_train)\n",
        "plt.scatter(X_train, lin_reg_poly.predict(poly.fit_transform(X_train)))\n",
        "plt.show()"
      ],
      "metadata": {
        "id": "qFt3pO_FQbY-",
        "outputId": "ea56f3cf-aa7a-4668-b1c3-feae3bb55f9f",
        "colab": {
          "base_uri": "https://localhost:8080/",
          "height": 536
        }
      },
      "execution_count": 18,
      "outputs": [
        {
          "output_type": "stream",
          "name": "stdout",
          "text": [
            "R-squared:  0.5675102533905552\n",
            "MSE:  112.14702300983053\n",
            "RMSE:  10.589949150483704\n",
            "[[0.         0.01697819 0.01266629]]\n",
            "[41.9367813]\n"
          ]
        },
        {
          "output_type": "display_data",
          "data": {
            "text/plain": [
              "<Figure size 700x500 with 1 Axes>"
            ],
            "image/png": "[encoded data removed]"
          },
          "metadata": {}
        }
      ]
    },
    {
      "cell_type": "markdown",
      "source": [
        "Comparer les deux modèles"
      ],
      "metadata": {
        "id": "6VPyUb3OQtWi"
      }
    },
    {
      "cell_type": "code",
      "source": [
        "poly= PolynomialFeatures(degree=2)\n",
        "X_poly_test=poly.fit_transform(X_test)\n",
        "poly.fit(X_poly_test,Y_test)\n",
        "lin_reg_poly_test=LinearRegression()\n",
        "lin_reg_poly_test.fit(X_poly_test, Y_test)\n",
        "Y_poly_pred_test=lin_reg_poly_test.predict(X_poly_test)\n",
        "mse = mean_squared_error(Y_test,Y_poly_pred_test)\n",
        "score =r2_score(Y_test,Y_poly_pred_test)\n",
        "RMSE= np.sqrt(mse)\n",
        "print(\"R-squared: \", score)\n",
        "print(\"MSE: \", mse[0])\n",
        "print(\"RMSE: \", RMSE[0])\n",
        "print(lin_reg_poly_test.coef_)\n",
        "print(lin_reg_poly_test.intercept_)\n",
        "plt.scatter(X_test, Y_test)\n",
        "plt.scatter(X_test, lin_reg_poly_test.predict(poly.fit_transform(X_test)))\n",
        "plt.show()"
      ],
      "metadata": {
        "id": "j_mO747y6uqY",
        "outputId": "91d5e979-1ea0-46f3-b7dd-bb8e89024d09",
        "colab": {
          "base_uri": "https://localhost:8080/",
          "height": 536
        }
      },
      "execution_count": 23,
      "outputs": [
        {
          "output_type": "stream",
          "name": "stdout",
          "text": [
            "R-squared:  0.6494823162880661\n",
            "MSE:  73.0751028924255\n",
            "RMSE:  8.548397679824301\n",
            "[[ 0.         -0.94343022  0.02220082]]\n",
            "[60.70847098]\n"
          ]
        },
        {
          "output_type": "display_data",
          "data": {
            "text/plain": [
              "<Figure size 700x500 with 1 Axes>"
            ],
            "image/png": "[encoded data removed]"
          },
          "metadata": {}
        }
      ]
    }
  ],
  "metadata": {
    "kernelspec": {
      "display_name": "Python 3",
      "language": "python",
      "name": "python3"
    },
    "language_info": {
      "codemirror_mode": {
        "name": "ipython",
        "version": 3
      },
      "file_extension": ".py",
      "mimetype": "text/x-python",
      "name": "python",
      "nbconvert_exporter": "python",
      "pygments_lexer": "ipython3",
      "version": "3.8.3"
    },
    "colab": {
      "provenance": [],
      "include_colab_link": true
    }
  },
  "nbformat": 4,
  "nbformat_minor": 0
}